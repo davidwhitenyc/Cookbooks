{
 "cells": [
  {
   "cell_type": "code",
   "execution_count": 2,
   "metadata": {},
   "outputs": [],
   "source": [
    "import requests\n",
    "import pandas as pd\n",
    "from dotenv import load_dotenv\n",
    "import os"
   ]
  },
  {
   "cell_type": "code",
   "execution_count": 4,
   "metadata": {},
   "outputs": [
    {
     "name": "stdout",
     "output_type": "stream",
     "text": [
      "                   NAME   P1_001N state\n",
      "0          Pennsylvania  13002700    42\n",
      "1            California  39538223    06\n",
      "2         West Virginia   1793716    54\n",
      "3                  Utah   3271616    49\n",
      "4              New York  20201249    36\n",
      "5  District of Columbia    689545    11\n",
      "6                Alaska    733391    02\n",
      "7               Florida  21538187    12\n",
      "8        South Carolina   5118425    45\n",
      "9          North Dakota    779094    38\n"
     ]
    }
   ],
   "source": [
    "# Load environment variables from the .env file\n",
    "load_dotenv()\n",
    "\n",
    "# Retrieve the API key from the .env file\n",
    "API_KEY = os.getenv('CENSUS_API_KEY')\n",
    "BASE_URL = 'https://api.census.gov/data/2020/dec/pl'\n",
    "\n",
    "# Define the parameters for the API request\n",
    "params = {\n",
    "    'get': 'NAME,P1_001N',  # P1_001N is the total population count\n",
    "    'for': 'state:*',        # Get data for all states\n",
    "    'key': API_KEY\n",
    "}\n",
    "\n",
    "# Make the API request\n",
    "response = requests.get(BASE_URL, params=params)\n",
    "\n",
    "if response.status_code == 200:\n",
    "    # Convert the response to JSON\n",
    "    data = response.json()\n",
    "    \n",
    "    # Convert JSON data to a pandas DataFrame\n",
    "    columns = data[0]\n",
    "    data_rows = data[1:]\n",
    "    df = pd.DataFrame(data_rows, columns=columns)\n",
    "    \n",
    "    # Display the first few rows of the DataFrame\n",
    "    print(df.head(10))\n",
    "else:\n",
    "    print(f\"Error: {response.status_code}\")\n",
    "\n",
    "# # Optional: save the DataFrame to a CSV file\n",
    "# df.to_csv('census_population_by_state.csv', index=False)\n"
   ]
  }
 ],
 "metadata": {
  "kernelspec": {
   "display_name": "Python 3 (ipykernel)",
   "language": "python",
   "name": "python3"
  },
  "language_info": {
   "codemirror_mode": {
    "name": "ipython",
    "version": 3
   },
   "file_extension": ".py",
   "mimetype": "text/x-python",
   "name": "python",
   "nbconvert_exporter": "python",
   "pygments_lexer": "ipython3",
   "version": "3.12.3"
  }
 },
 "nbformat": 4,
 "nbformat_minor": 2
}
